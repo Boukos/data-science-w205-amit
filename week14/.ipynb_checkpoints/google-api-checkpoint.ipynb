{
 "cells": [
  {
   "cell_type": "markdown",
   "metadata": {},
   "source": [
    "## using Google API \n",
    "\n",
    "hope you all have gmail accounts\n"
   ]
  },
  {
   "cell_type": "markdown",
   "metadata": {},
   "source": [
    "### install python api client for google\n",
    "\n",
    "pip install ...  the api client and the oauth2client\n",
    "\n",
    "```\n",
    "pip install --upgrade google-api-python-client\n",
    "pip install --upgrade oauth2client\n",
    "```\n"
   ]
  },
  {
   "cell_type": "markdown",
   "metadata": {},
   "source": [
    "###  create a project in the Google API Console.\n",
    "\n",
    "https://console.developers.google.com/"
   ]
  },
  {
   "cell_type": "markdown",
   "metadata": {},
   "source": [
    "### create credentials\n",
    "\n",
    "put these in a file called **`mids_client_secrets.json`**\n",
    "\n",
    "```\n",
    "client_id = \"XXX\"\n",
    "client_secret = \"YYY\"\n",
    "```\n",
    "\n"
   ]
  },
  {
   "cell_type": "markdown",
   "metadata": {},
   "source": [
    "### try to use the credentials"
   ]
  },
  {
   "cell_type": "code",
   "execution_count": 2,
   "metadata": {
    "collapsed": true
   },
   "outputs": [],
   "source": [
    "### use the credentials\n",
    "\n",
    "from oauth2client.client import flow_from_clientsecrets\n"
   ]
  },
  {
   "cell_type": "code",
   "execution_count": null,
   "metadata": {
    "collapsed": true
   },
   "outputs": [],
   "source": []
  }
 ],
 "metadata": {
  "kernelspec": {
   "display_name": "Python 3",
   "language": "python",
   "name": "python3"
  },
  "language_info": {
   "codemirror_mode": {
    "name": "ipython",
    "version": 3
   },
   "file_extension": ".py",
   "mimetype": "text/x-python",
   "name": "python",
   "nbconvert_exporter": "python",
   "pygments_lexer": "ipython3",
   "version": "3.5.1"
  }
 },
 "nbformat": 4,
 "nbformat_minor": 0
}
