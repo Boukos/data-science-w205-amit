{
 "cells": [
  {
   "cell_type": "markdown",
   "metadata": {},
   "source": [
    "# python distance measures\n",
    "\n",
    "## why important\n",
    "\n",
    "** data often contains messy strings that you need to \"clean\" before further analysis **\n",
    "\n",
    "examples:\n",
    "* misspellings - someone may type \"misisipi\" instead of \"mississippi\"\n",
    "* alternates - someone may type \"ny giants\" instead of \"new york giants\" \n",
    "\n",
    "** search engines are \"smart\" and want to help you find the right thing even if you didn't get an exact match **\n",
    "\n",
    "blog post from SeatGeek >> http://chairnerd.seatgeek.com/fuzzywuzzy-fuzzy-string-matching-in-python/\n",
    "\n",
    "```\n",
    "Of course, a big problem with most corners of the internet is labeling. \n",
    "One of our most consistently frustrating issues is trying to figure out \n",
    "whether two ticket listings are for the same real-life event \n",
    "(that is, without enlisting the help of our army of interns).\n",
    "\n",
    "```\n",
    "\n",
    "* abbreviations - someone may type \"cal bears football\" instead of \"california golden bears football\" \n",
    "  * Seatgeek > https://seatgeek.com/search?f=1&search=cal%20bears%20football\n",
    "\n",
    "\n",
    "## how \n",
    "\n",
    "investigate the usage of the following packages that compute distances\n",
    "* Levenshtein - https://rawgit.com/ztane/python-Levenshtein/master/docs/Levenshtein.html\n",
    "* difflib - https://docs.python.org/2/library/difflib.html\n",
    "* fuzzywuzzy (uses Levenshtein package) - https://github.com/seatgeek/fuzzywuzzy\n",
    "\n",
    "## installation\n",
    "\n",
    "```\n",
    "pip install python-Levenshtein\n",
    "pip install fuzzywuzzy\n",
    "\n",
    "```\n"
   ]
  },
  {
   "cell_type": "code",
   "execution_count": 124,
   "metadata": {
    "collapsed": false
   },
   "outputs": [],
   "source": [
    "import Levenshtein\n",
    "from fuzzywuzzy import fuzz, StringMatcher, process\n",
    "import difflib # part of standard library\n",
    "import csv"
   ]
  },
  {
   "cell_type": "code",
   "execution_count": 125,
   "metadata": {
    "collapsed": true
   },
   "outputs": [],
   "source": [
    "import pandas"
   ]
  },
  {
   "cell_type": "markdown",
   "metadata": {},
   "source": [
    "## basic usage "
   ]
  },
  {
   "cell_type": "markdown",
   "metadata": {},
   "source": [
    "### example 1"
   ]
  },
  {
   "cell_type": "code",
   "execution_count": 126,
   "metadata": {
    "collapsed": false
   },
   "outputs": [
    {
     "name": "stdout",
     "output_type": "stream",
     "text": [
      "3\n",
      "0.842105263158\n"
     ]
    }
   ],
   "source": [
    "\n",
    "s1 = \"misisipi\"\n",
    "s2 = \"mississippi\"\n",
    "print Levenshtein.distance(s1,s2)\n",
    "print Levenshtein.ratio(s1,s2)\n"
   ]
  },
  {
   "cell_type": "markdown",
   "metadata": {},
   "source": [
    "### example 2"
   ]
  },
  {
   "cell_type": "code",
   "execution_count": 127,
   "metadata": {
    "collapsed": false
   },
   "outputs": [
    {
     "name": "stdout",
     "output_type": "stream",
     "text": [
      "6\n",
      "0.75\n"
     ]
    }
   ],
   "source": [
    "\n",
    "s1 = \"NY Giants\"\n",
    "s2 = \"New York Giants\"\n",
    "print Levenshtein.distance(s1,s2)\n",
    "print Levenshtein.ratio(s1,s2)"
   ]
  },
  {
   "cell_type": "code",
   "execution_count": 128,
   "metadata": {
    "collapsed": false
   },
   "outputs": [
    {
     "name": "stdout",
     "output_type": "stream",
     "text": [
      "0.75\n",
      "0.75\n",
      "0.75\n"
     ]
    }
   ],
   "source": [
    "# different way to get the ratio\n",
    "print Levenshtein.ratio(s1,s2)\n",
    "print fuzz.ratio(s1,s2) / 100.\n",
    "print difflib.SequenceMatcher(None,s1,s2).ratio()"
   ]
  },
  {
   "cell_type": "markdown",
   "metadata": {},
   "source": [
    "### example 3\n"
   ]
  },
  {
   "cell_type": "code",
   "execution_count": 153,
   "metadata": {
    "collapsed": false
   },
   "outputs": [
    {
     "name": "stdout",
     "output_type": "stream",
     "text": [
      "91\n",
      "100\n"
     ]
    }
   ],
   "source": [
    "s1 = \"fuzzy wuzzy was a bear\"\n",
    "s2 = \"wuzzy fuzzy was a bear\"\n",
    "\n",
    "print fuzz.ratio(s1, s2)"
   ]
  },
  {
   "cell_type": "code",
   "execution_count": 154,
   "metadata": {
    "collapsed": false
   },
   "outputs": [
    {
     "name": "stdout",
     "output_type": "stream",
     "text": [
      "100\n"
     ]
    }
   ],
   "source": [
    "s1 = \"fuzzy wuzzy was a bear\"\n",
    "s2 = \"wuzzy fuzzy was a bear\"\n",
    "print fuzz.token_sort_ratio(s1, s2)"
   ]
  },
  {
   "cell_type": "markdown",
   "metadata": {},
   "source": [
    "##  find best match"
   ]
  },
  {
   "cell_type": "code",
   "execution_count": 129,
   "metadata": {
    "collapsed": false,
    "scrolled": true
   },
   "outputs": [
    {
     "data": {
      "text/plain": [
       "['Arizona Cardinals',\n",
       " 'Atlanta Falcons',\n",
       " 'Baltimore Ravens',\n",
       " 'Buffalo Bills',\n",
       " 'Carolina Panthers',\n",
       " 'Chicago Bears',\n",
       " 'Cincinnati Bengals',\n",
       " 'Cleveland Browns',\n",
       " 'Dallas Cowboys',\n",
       " 'Denver Broncos',\n",
       " 'Detroit Lions',\n",
       " 'Green Bay Packers',\n",
       " 'Houston Texans',\n",
       " 'Indianapolis Colts',\n",
       " 'Jacksonville Jaguars',\n",
       " 'Kansas City Chiefs',\n",
       " 'Los Angeles Rams',\n",
       " 'Miami Dolphins',\n",
       " 'Minnesota Vikings',\n",
       " 'New England Patriots',\n",
       " 'New Orleans Saints',\n",
       " 'New York Giants',\n",
       " 'New York Jets',\n",
       " 'Oakland Raiders',\n",
       " 'Philadelphia Eagles',\n",
       " 'Pittsburgh Steelers',\n",
       " 'San Diego Chargers',\n",
       " 'San Francisco 49ers',\n",
       " 'Seattle Seahawks',\n",
       " 'St Louis Rams',\n",
       " 'Tampa Bay Buccaneers',\n",
       " 'Tennessee Titans',\n",
       " 'Washington Redskins']"
      ]
     },
     "execution_count": 129,
     "metadata": {},
     "output_type": "execute_result"
    }
   ],
   "source": [
    "# read data\n",
    "df_teams = pandas.read_csv('nflTeams.csv')\n",
    "teams = df_teams.team.tolist()\n",
    "sorted(teams)"
   ]
  },
  {
   "cell_type": "code",
   "execution_count": 130,
   "metadata": {
    "collapsed": false
   },
   "outputs": [
    {
     "name": "stdout",
     "output_type": "stream",
     "text": [
      "NY Giants\n",
      "['New York Giants']\n"
     ]
    }
   ],
   "source": [
    "# use difflib to get best match\n",
    "s1 = 'NY Giants'\n",
    "print s1\n",
    "\n",
    "print difflib.get_close_matches(s1,teams)"
   ]
  },
  {
   "cell_type": "code",
   "execution_count": 131,
   "metadata": {
    "collapsed": false
   },
   "outputs": [
    {
     "name": "stdout",
     "output_type": "stream",
     "text": [
      "New York Giants\n",
      "['New York Giants', 'New York Jets']\n"
     ]
    }
   ],
   "source": [
    "# use difflib to get best match\n",
    "s1 = 'New York Giants' \n",
    "print s1\n",
    "print difflib.get_close_matches(s1,teams)"
   ]
  },
  {
   "cell_type": "code",
   "execution_count": 132,
   "metadata": {
    "collapsed": false
   },
   "outputs": [
    {
     "name": "stdout",
     "output_type": "stream",
     "text": [
      "New York Giants New York Giants 1.0\n",
      "New York Giants New York Jets 0.785714285714\n"
     ]
    }
   ],
   "source": [
    "# which match is better?\n",
    "close_matches  = difflib.get_close_matches(s1,teams)\n",
    "for s2 in close_matches:\n",
    "    print s1, s2, Levenshtein.ratio(s1,s2)"
   ]
  },
  {
   "cell_type": "code",
   "execution_count": 133,
   "metadata": {
    "collapsed": false
   },
   "outputs": [
    {
     "name": "stdout",
     "output_type": "stream",
     "text": [
      "NY Giants\n"
     ]
    },
    {
     "data": {
      "text/plain": [
       "[('New York Giants', 86),\n",
       " ('New Orleans Saints', 60),\n",
       " ('Tennessee Titans', 53),\n",
       " ('Houston Texans', 50),\n",
       " ('Carolina Panthers', 50)]"
      ]
     },
     "execution_count": 133,
     "metadata": {},
     "output_type": "execute_result"
    }
   ],
   "source": [
    "# use fuzzywuzzy\n",
    "s1 = 'NY Giants' \n",
    "print s1\n",
    "process.extract(s1, teams)"
   ]
  },
  {
   "cell_type": "code",
   "execution_count": 134,
   "metadata": {
    "collapsed": false
   },
   "outputs": [
    {
     "name": "stdout",
     "output_type": "stream",
     "text": [
      "NY Giants\n"
     ]
    },
    {
     "data": {
      "text/plain": [
       "[('New York Giants', 86),\n",
       " ('New Orleans Saints', 60),\n",
       " ('Tennessee Titans', 53),\n",
       " ('Houston Texans', 50),\n",
       " ('Carolina Panthers', 50)]"
      ]
     },
     "execution_count": 134,
     "metadata": {},
     "output_type": "execute_result"
    }
   ],
   "source": [
    "# one get one answer\n",
    "# use fuzzywuzzy\n",
    "s1 = 'NY Giants' \n",
    "print s1\n",
    "process.extractBests(s1, teams)"
   ]
  },
  {
   "cell_type": "code",
   "execution_count": 135,
   "metadata": {
    "collapsed": false
   },
   "outputs": [
    {
     "name": "stdout",
     "output_type": "stream",
     "text": [
      "NY Gaints\n"
     ]
    },
    {
     "data": {
      "text/plain": [
       "[('New Orleans Saints', 70),\n",
       " ('New York Giants', 67),\n",
       " ('New England Patriots', 50),\n",
       " ('Arizona Cardinals', 50),\n",
       " ('Houston Texans', 50)]"
      ]
     },
     "execution_count": 135,
     "metadata": {},
     "output_type": "execute_result"
    }
   ],
   "source": [
    "# use fuzzywuzzy - not the desired result!\n",
    "s1 = 'NY Gaints' \n",
    "print s1\n",
    "process.extract(s1, teams)"
   ]
  },
  {
   "cell_type": "markdown",
   "metadata": {},
   "source": [
    "##  find best match 2 "
   ]
  },
  {
   "cell_type": "code",
   "execution_count": 136,
   "metadata": {
    "collapsed": false,
    "scrolled": true
   },
   "outputs": [
    {
     "data": {
      "text/plain": [
       "['alabama',\n",
       " 'alaska',\n",
       " 'alberta',\n",
       " 'american samoa',\n",
       " 'arizona',\n",
       " 'arkansas',\n",
       " 'armed forces americas',\n",
       " 'armed forces europe',\n",
       " 'armed forces pacific',\n",
       " 'bajo nuevo bank',\n",
       " 'baker island',\n",
       " 'british columbia',\n",
       " 'california',\n",
       " 'colorado',\n",
       " 'connecticut',\n",
       " 'delaware',\n",
       " 'district of columbia',\n",
       " 'florida',\n",
       " 'georgia',\n",
       " 'guam',\n",
       " 'hawaii',\n",
       " 'howland island',\n",
       " 'idaho',\n",
       " 'illinois',\n",
       " 'indiana',\n",
       " 'iowa',\n",
       " 'jarvis island',\n",
       " 'johnston atoll',\n",
       " 'kansas',\n",
       " 'kentucky',\n",
       " 'kingman reef',\n",
       " 'louisiana',\n",
       " 'maine',\n",
       " 'manitoba',\n",
       " 'maryland',\n",
       " 'massachusetts',\n",
       " 'michigan',\n",
       " 'midway islands',\n",
       " 'minnesota',\n",
       " 'mississippi',\n",
       " 'missouri',\n",
       " 'montana',\n",
       " 'navassa island',\n",
       " 'nebraska',\n",
       " 'nevada',\n",
       " 'new brunswick',\n",
       " 'new hampshire',\n",
       " 'new jersey',\n",
       " 'new mexico',\n",
       " 'new york',\n",
       " 'newfoundland and labrador',\n",
       " 'north carolina',\n",
       " 'north dakota',\n",
       " 'northern mariana islands',\n",
       " 'northwest territories',\n",
       " 'nova scotia',\n",
       " 'nunavut',\n",
       " 'ohio',\n",
       " 'oklahoma',\n",
       " 'ontario',\n",
       " 'oregon',\n",
       " 'palmyra atoll',\n",
       " 'pennsylvania',\n",
       " 'prince edward island',\n",
       " 'puerto rico',\n",
       " 'quebec',\n",
       " 'rhode island',\n",
       " 'saskatchewan',\n",
       " 'serranilla bank',\n",
       " 'south carolina',\n",
       " 'south dakota',\n",
       " 'tennessee',\n",
       " 'texas',\n",
       " 'u.s. virgin islands',\n",
       " 'utah',\n",
       " 'vermont',\n",
       " 'virginia',\n",
       " 'wake island',\n",
       " 'washington',\n",
       " 'west virginia',\n",
       " 'wisconsin',\n",
       " 'wyoming',\n",
       " 'yukon territory']"
      ]
     },
     "execution_count": 136,
     "metadata": {},
     "output_type": "execute_result"
    }
   ],
   "source": [
    "# read data - includes Canadian provinces\n",
    "df_states = pandas.read_csv('state_table.csv')\n",
    "states = df_states.name.str.lower()\n",
    "sorted(states)"
   ]
  },
  {
   "cell_type": "code",
   "execution_count": 137,
   "metadata": {
    "collapsed": false
   },
   "outputs": [
    {
     "name": "stdout",
     "output_type": "stream",
     "text": [
      "misisipi\n",
      "['mississippi', 'missouri']\n"
     ]
    }
   ],
   "source": [
    "# get closest matches\n",
    "s1 = 'misisipi'\n",
    "print s1\n",
    "\n",
    "print difflib.get_close_matches(s1,states)\n"
   ]
  },
  {
   "cell_type": "code",
   "execution_count": 138,
   "metadata": {
    "collapsed": false
   },
   "outputs": [
    {
     "name": "stdout",
     "output_type": "stream",
     "text": [
      "misisipi mississippi 0.842105263158\n",
      "misisipi missouri 0.625\n"
     ]
    }
   ],
   "source": [
    "# which match is better?\n",
    "close_matches  = difflib.get_close_matches(s1,states)\n",
    "for s2 in close_matches:\n",
    "    print s1, s2, Levenshtein.ratio(s1,s2)\n"
   ]
  },
  {
   "cell_type": "code",
   "execution_count": 139,
   "metadata": {
    "collapsed": false
   },
   "outputs": [
    {
     "name": "stdout",
     "output_type": "stream",
     "text": [
      "[('mississippi', 84), ('missouri', 63), ('wisconsin', 47), ('jarvis island', 45), ('district of columbia', 43)]\n"
     ]
    }
   ],
   "source": [
    "# use fuzzy wuzzy this time\n",
    "print process.extract(s1, states)"
   ]
  },
  {
   "cell_type": "markdown",
   "metadata": {},
   "source": [
    "## time to try it for yourself"
   ]
  },
  {
   "cell_type": "code",
   "execution_count": 140,
   "metadata": {
    "collapsed": true
   },
   "outputs": [],
   "source": [
    "# DO NOT TRY THIS - unless you have pandas installed\n",
    "df_districts = pandas.read_csv(\"districts.csv\")"
   ]
  },
  {
   "cell_type": "code",
   "execution_count": 141,
   "metadata": {
    "collapsed": false
   },
   "outputs": [
    {
     "data": {
      "text/html": [
       "<div>\n",
       "<table border=\"1\" class=\"dataframe\">\n",
       "  <thead>\n",
       "    <tr style=\"text-align: right;\">\n",
       "      <th></th>\n",
       "      <th>Agency Name</th>\n",
       "      <th>State Name [District] Latest available year</th>\n",
       "      <th>Agency ID</th>\n",
       "      <th>County Name [District] 2010-11</th>\n",
       "      <th>State Abbr [District] Latest available year</th>\n",
       "      <th>Agency Name [District] 2010-11</th>\n",
       "    </tr>\n",
       "  </thead>\n",
       "  <tbody>\n",
       "    <tr>\n",
       "      <th>10994</th>\n",
       "      <td>NEW ROCHELLE CITY SCHOOL DISTRICT</td>\n",
       "      <td>New York</td>\n",
       "      <td>3620490</td>\n",
       "      <td>WESTCHESTER COUNTY</td>\n",
       "      <td>NY</td>\n",
       "      <td>NEW ROCHELLE CITY SCHOOL DISTRICT</td>\n",
       "    </tr>\n",
       "    <tr>\n",
       "      <th>13606</th>\n",
       "      <td>ROCHELLE CCSD 231</td>\n",
       "      <td>Illinois</td>\n",
       "      <td>1734260</td>\n",
       "      <td>OGLE COUNTY</td>\n",
       "      <td>IL</td>\n",
       "      <td>ROCHELLE CCSD 231</td>\n",
       "    </tr>\n",
       "    <tr>\n",
       "      <th>13607</th>\n",
       "      <td>ROCHELLE ISD</td>\n",
       "      <td>Texas</td>\n",
       "      <td>4837500</td>\n",
       "      <td>MCCULLOCH COUNTY</td>\n",
       "      <td>TX</td>\n",
       "      <td>ROCHELLE ISD</td>\n",
       "    </tr>\n",
       "    <tr>\n",
       "      <th>13608</th>\n",
       "      <td>ROCHELLE PARK SCHOOL DISTRICT</td>\n",
       "      <td>New Jersey</td>\n",
       "      <td>3414070</td>\n",
       "      <td>BERGEN COUNTY</td>\n",
       "      <td>NJ</td>\n",
       "      <td>ROCHELLE PARK</td>\n",
       "    </tr>\n",
       "    <tr>\n",
       "      <th>13609</th>\n",
       "      <td>ROCHELLE TWP HSD 212</td>\n",
       "      <td>Illinois</td>\n",
       "      <td>1734290</td>\n",
       "      <td>OGLE COUNTY</td>\n",
       "      <td>IL</td>\n",
       "      <td>ROCHELLE TWP HSD 212</td>\n",
       "    </tr>\n",
       "  </tbody>\n",
       "</table>\n",
       "</div>"
      ],
      "text/plain": [
       "                             Agency Name  \\\n",
       "10994  NEW ROCHELLE CITY SCHOOL DISTRICT   \n",
       "13606                  ROCHELLE CCSD 231   \n",
       "13607                       ROCHELLE ISD   \n",
       "13608      ROCHELLE PARK SCHOOL DISTRICT   \n",
       "13609               ROCHELLE TWP HSD 212   \n",
       "\n",
       "      State Name [District] Latest available year  Agency ID  \\\n",
       "10994                                    New York    3620490   \n",
       "13606                                    Illinois    1734260   \n",
       "13607                                       Texas    4837500   \n",
       "13608                                  New Jersey    3414070   \n",
       "13609                                    Illinois    1734290   \n",
       "\n",
       "      County Name [District] 2010-11  \\\n",
       "10994             WESTCHESTER COUNTY   \n",
       "13606                    OGLE COUNTY   \n",
       "13607               MCCULLOCH COUNTY   \n",
       "13608                  BERGEN COUNTY   \n",
       "13609                    OGLE COUNTY   \n",
       "\n",
       "      State Abbr [District] Latest available year  \\\n",
       "10994                                         NY    \n",
       "13606                                         IL    \n",
       "13607                                         TX    \n",
       "13608                                         NJ    \n",
       "13609                                         IL    \n",
       "\n",
       "          Agency Name [District] 2010-11  \n",
       "10994  NEW ROCHELLE CITY SCHOOL DISTRICT  \n",
       "13606                  ROCHELLE CCSD 231  \n",
       "13607                       ROCHELLE ISD  \n",
       "13608                      ROCHELLE PARK  \n",
       "13609               ROCHELLE TWP HSD 212  "
      ]
     },
     "execution_count": 141,
     "metadata": {},
     "output_type": "execute_result"
    }
   ],
   "source": [
    "# DO NOT TRY THIS - unless you have pandas installed\n",
    "# just for your information \n",
    "df_districts[df_districts['Agency Name'].str.lower().str.contains('rochelle')]"
   ]
  },
  {
   "cell_type": "code",
   "execution_count": 142,
   "metadata": {
    "collapsed": false
   },
   "outputs": [],
   "source": [
    "# read the file and get the districts w/o pandas \n",
    "f = open(\"districts.csv\", 'rU') # read in universal mode\n",
    "csv_reader = csv.reader(f, dialect='excel')\n",
    "districts = list()\n",
    "for line in csv_reader:\n",
    "    districts.append(line[0].lower())\n"
   ]
  },
  {
   "cell_type": "markdown",
   "metadata": {},
   "source": [
    "### try to find the school district where Amit went to high school in Moraga\n",
    "\n",
    "* find the top 5 best matches\n"
   ]
  },
  {
   "cell_type": "code",
   "execution_count": null,
   "metadata": {
    "collapsed": false
   },
   "outputs": [],
   "source": [
    "s1 = \"acalanes\"  \n",
    "\n",
    "# enter your matching function below"
   ]
  },
  {
   "cell_type": "markdown",
   "metadata": {},
   "source": [
    "### try to find the school district where Amit's kids go to school in New Rochelle\n",
    "\n",
    "* find the top 5 results\n",
    "* do they look like the above 5 or not?\n",
    "* why or why not?\n",
    "* how would you fix it?  (hint: read the docs, try a different scoring function)"
   ]
  },
  {
   "cell_type": "code",
   "execution_count": 144,
   "metadata": {
    "collapsed": false
   },
   "outputs": [],
   "source": [
    "s1 = \"new rochelle\"  \n",
    "\n",
    "# enter you matching function below\n"
   ]
  },
  {
   "cell_type": "code",
   "execution_count": null,
   "metadata": {
    "collapsed": true
   },
   "outputs": [],
   "source": []
  }
 ],
 "metadata": {
  "kernelspec": {
   "display_name": "Python 2",
   "language": "python",
   "name": "python2"
  },
  "language_info": {
   "codemirror_mode": {
    "name": "ipython",
    "version": 2
   },
   "file_extension": ".py",
   "mimetype": "text/x-python",
   "name": "python",
   "nbconvert_exporter": "python",
   "pygments_lexer": "ipython2",
   "version": "2.7.10"
  }
 },
 "nbformat": 4,
 "nbformat_minor": 0
}
