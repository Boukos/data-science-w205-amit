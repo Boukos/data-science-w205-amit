{
 "cells": [
  {
   "cell_type": "markdown",
   "metadata": {},
   "source": [
    "## investigating psql\n",
    "\n",
    "### login to postgres \n",
    "\n",
    "you need to have the postgres client installed which you all have on your ec2 instance for the class\n",
    "\n",
    "    psql -h mids-w205.c0bx3q0sdpgn.us-east-1.rds.amazonaws.com -p 5432 -U amitb -d midstest\n",
    "\n",
    "password = gobears92\n",
    "\n",
    "### data \n",
    "\n",
    "there is one table with some data called  **`nfllines`**\n",
    "\n",
    "### check to see what tables exist\n",
    "\n",
    "``` \\dt ```\n",
    "\n",
    "### check out the table columns and definition\n",
    "\n",
    "```\\d nfllines```\n",
    "\n",
    "### check to see how much data we have \n",
    "\n",
    "```select count(*) from nfllines; ```\n",
    "\n",
    "### check out the first few lines\n",
    "\n",
    "```select * from nfllines limit 10; ```"
   ]
  },
  {
   "cell_type": "markdown",
   "metadata": {},
   "source": [
    "### exercises\n",
    "\n",
    "1. how many games were played each season?  what happened in 1982?\n",
    "1. how many teams were in the league each season?\n",
    "1. what is the number of times the home team won?\n",
    "1. what is the number of times the home team won when favored (line is positive for being favored at home)?\n"
   ]
  },
  {
   "cell_type": "code",
   "execution_count": null,
   "metadata": {
    "collapsed": true
   },
   "outputs": [],
   "source": []
  }
 ],
 "metadata": {
  "kernelspec": {
   "display_name": "Python 2",
   "language": "python",
   "name": "python2"
  },
  "language_info": {
   "codemirror_mode": {
    "name": "ipython",
    "version": 2
   },
   "file_extension": ".py",
   "mimetype": "text/x-python",
   "name": "python",
   "nbconvert_exporter": "python",
   "pygments_lexer": "ipython2",
   "version": "2.7.10"
  }
 },
 "nbformat": 4,
 "nbformat_minor": 0
}
